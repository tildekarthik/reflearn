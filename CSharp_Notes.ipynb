{
 "cells": [
  {
   "cell_type": "markdown",
   "source": [
    "# C# Notes"
   ],
   "metadata": {
    "dotnet_interactive": {
     "language": "csharp"
    }
   }
  },
  {
   "cell_type": "markdown",
   "source": [
    "Order of things in C#\n",
    "1. Classes \n",
    "2. Namespaces\n",
    "3. Assembly (Collection of Namespaces) - Usually a physical file EXE or DLL\n",
    "4. Application (Collection of Assemblies)\n",
    "\n"
   ],
   "metadata": {
    "dotnet_interactive": {
     "language": "csharp"
    }
   }
  },
  {
   "cell_type": "markdown",
   "source": [
    "DotNet Framework consists of (1) Class Libraries and (2) CLR (Common Language Runtime)\n",
    "- Program generates IL (Intermedeate Language Code)\n",
    "- IL is converted using JIT to machine specific assembly\n",
    "\n",
    "\n",
    "\n",
    "Solution <- (one or more) Projects"
   ],
   "metadata": {}
  },
  {
   "cell_type": "markdown",
   "source": [
    "## Primitive \n",
    "\n",
    "- Byte(8), Short (16), Int(32), Long(32)\n",
    "- Float(4), Double(8), Decimel(16)\n",
    "- bool\n",
    "- Char\n",
    "\n",
    "\n",
    "*Overflowing* byte 255+1 is 1\n",
    "\n",
    "Type conversion - \n",
    "1. Implicit - `int i = 32; long j=i;`\n",
    "2. Explicit - (or Casting) - `float j=2f; int i = (int)j;`"
   ],
   "metadata": {}
  },
  {
   "cell_type": "markdown",
   "source": [],
   "metadata": {}
  },
  {
   "cell_type": "markdown",
   "source": [
    "## Non Primitive Types\n",
    "- Classes - Fields and Methods\n",
    "  - static modifier - Only one class definition or Method instance exists\n",
    "- Arrays - Fixed Size\n",
    "  - Single Dimensional (`new int[3]{1,2,3}`) - CLR optimized for this and hence jagged - array of array\n",
    "  - Multi Dimensional (2 types - rectagular or jagged)\n",
    "    - Rectangular `new int[2,3]{{1,2,3},{4,5,6}}`\n",
    "    - Jagged `var i = new int[2][];i[0]=new int[3];i[1] = new int[4];i[0][1]=2`\n",
    "- Strings - Use `\"` not \"'\" which is for char\n",
    "  - Immutable by default\n",
    "  - string or **S**tring - both same but second requires importing system\n",
    "  - Escape special characters \\n \\t etc.\n",
    "  - Form strings with\n",
    "    - `string name = string.Format(“{0} {1}”, firstName, lastName);`\n",
    "    - `string list = string.Join(“,”, numbers);`\n",
    "  - Verbatim strings `@\"c:\\projects\"`\n",
    "  - Formatting new - `$\"Repetition{(string)i}\"`\n",
    "\n",
    "- Structs - small classes , used in C# to define classlibs like int etc. Not used much in programming\n",
    "- Enums - used to codify categorical labels\n",
    "\n",
    "\n",
    "`public enum ShippingMethod\n",
    "{\n",
    "       Express = 1,\n",
    "       Regular = 2\n",
    "}`\n",
    "\n",
    "`var methodId=1; var method = (ShippingMethod)methodId`\n",
    "\n",
    "`var method = ShippingMethod.Express;var name = method.ToString();var method = (ShippingMethod)Enum.Parse(typeof(ShippingMethod),name)`\n",
    "\n",
    "\n",
    "**Primitive types are stored by Value on Stack and removed when out of scope (Value Types) and Non Primitve as Reference (Reference Types) are on Heap and removed during Garbage Collection by CLR**\n"
   ],
   "metadata": {
    "dotnet_interactive": {
     "language": "csharp"
    }
   }
  },
  {
   "cell_type": "markdown",
   "source": [
    "## Control flows\n",
    "\n",
    "- `float price = (isGold) ? 1.2f:0.2f;`"
   ],
   "metadata": {}
  },
  {
   "cell_type": "code",
   "execution_count": null,
   "source": [
    "enum Season {\n",
    "    Summer, Winter,Autumn\n",
    "}\n",
    "\n",
    "var season = Season.Autumn;\n",
    "\n",
    "switch (season)\n",
    "{\n",
    "    case Season.Summer:\n",
    "        Console.WriteLine(\"Summer\");\n",
    "        break;\n",
    "    \n",
    "    case Season.Winter:\n",
    "    case Season.Autumn:\n",
    "        Console.WriteLine(\"Winter\");\n",
    "        break;\n",
    "\n",
    "    default:\n",
    "        Console.WriteLine(\"What season?\");\n",
    "        break;\n",
    "}"
   ],
   "outputs": [
    {
     "data": {
      "text/plain": [
       "Winter\n"
      ]
     },
     "metadata": {},
     "output_type": "display_data"
    }
   ],
   "metadata": {
    "dotnet_interactive": {
     "language": "csharp"
    }
   }
  },
  {
   "cell_type": "markdown",
   "source": [],
   "metadata": {}
  }
 ],
 "metadata": {
  "orig_nbformat": 4,
  "language_info": {
   "file_extension": ".cs",
   "mimetype": "text/x-csharp",
   "name": "C#",
   "pygments_lexer": "csharp",
   "version": "9.0"
  },
  "kernelspec": {
   "display_name": ".NET (C#)",
   "language": "C#",
   "name": ".net-csharp"
  }
 },
 "nbformat": 4,
 "nbformat_minor": 2
}